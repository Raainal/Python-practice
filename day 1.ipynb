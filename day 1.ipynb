{
 "cells": [
  {
   "cell_type": "code",
   "execution_count": null,
   "metadata": {},
   "outputs": [],
   "source": [
    "p1=int(input(\"Enter the marks 1\"))\n",
    "p2=int(input(\"Enter the marks 2\"))\n",
    "p3=int(input(\"Enter the marks 3\"))\n",
    "p4=int(input(\"Enter the marks 4\"))\n",
    "p5=int(input(\"Enter the marks 5\"))\n",
    "# Calculating the percentage of the marks\n",
    "percentage=(p1+p2+p3+p4+p5)/5 "
   ]
  },
  {
   "cell_type": "markdown",
   "metadata": {},
   "source": [
    "Swapping"
   ]
  },
  {
   "cell_type": "code",
   "execution_count": 2,
   "metadata": {},
   "outputs": [
    {
     "name": "stdout",
     "output_type": "stream",
     "text": [
      "10\n",
      "3\n",
      "3\n",
      "10\n"
     ]
    }
   ],
   "source": [
    "val1=10\n",
    "val2=3\n",
    "print(val1)\n",
    "print(val2)\n",
    "temp =val1\n",
    "val1=val2\n",
    "val2=temp\n",
    "print(val1)\n",
    "print(val2)"
   ]
  },
  {
   "cell_type": "code",
   "execution_count": null,
   "metadata": {},
   "outputs": [],
   "source": [
    "pa=int(input(\"Enter pa\"))\n",
    "tm=int(input(\"Enter tm\"))\n",
    "r=int(input(\"Enter r\"))\n",
    "si=pa*tm*r/100  \n",
    "print(si)"
   ]
  },
  {
   "cell_type": "code",
   "execution_count": null,
   "metadata": {},
   "outputs": [],
   "source": [
    "p1=int(input(\"Enter the marks 1\"))\n",
    "p2=int(input(\"Enter the marks 2\"))\n",
    "p3=int(input(\"Enter the marks 3\"))\n",
    "\n",
    "if p1>p2:\n",
    "    if p1>p3:\n",
    "        if p1>p4:\n",
    "            if p1>p5:\n",
    "                print(p1,\" p1 is the greatest\")\n",
    "\n",
    "if p2>p1:\n",
    "    if p2>p3:\n",
    "        if p2>p4:\n",
    "            if p2>p5:\n",
    "                print(p2,\" p2 is the greatest\")\n",
    "\n",
    "\n",
    "#m=max(p1,p2,p3,p4,p5)\n",
    "#print(m)"
   ]
  },
  {
   "cell_type": "code",
   "execution_count": null,
   "metadata": {},
   "outputs": [],
   "source": [
    "for i in range (1,11):\n",
    "    print(i*2,\"\\t\",i*3,\"\\t\",i*4,\"\\t\",i*5)"
   ]
  },
  {
   "cell_type": "code",
   "execution_count": null,
   "metadata": {},
   "outputs": [],
   "source": [
    "for i in range(5,0):\n",
    "    print(i)"
   ]
  },
  {
   "cell_type": "markdown",
   "metadata": {},
   "source": [
    "zip(range1,range2)      2 range in 1 function"
   ]
  },
  {
   "cell_type": "code",
   "execution_count": null,
   "metadata": {},
   "outputs": [],
   "source": [
    "\n",
    "for i,j in zip(range(1,6),range(5,0,-1)):\n",
    "    if i==3 & j==3:\n",
    "        continue\n",
    "    print(i,\"\\t\",j)"
   ]
  },
  {
   "cell_type": "markdown",
   "metadata": {},
   "source": [
    "WAP to accept any character either lower case or upper case or digit or special symbol"
   ]
  },
  {
   "cell_type": "code",
   "execution_count": null,
   "metadata": {},
   "outputs": [
    {
     "ename": "",
     "evalue": "",
     "output_type": "error",
     "traceback": [
      "\u001b[1;31mThe Kernel crashed while executing code in the current cell or a previous cell. \n",
      "\u001b[1;31mPlease review the code in the cell(s) to identify a possible cause of the failure. \n",
      "\u001b[1;31mClick <a href='https://aka.ms/vscodeJupyterKernelCrash'>here</a> for more info. \n",
      "\u001b[1;31mView Jupyter <a href='command:jupyter.viewOutput'>log</a> for further details."
     ]
    }
   ],
   "source": [
    "a=input(\"Enter a character\")\n",
    "if a.islower()==True:\n",
    "    print(\"The character is a lowercase letter\")\n",
    "elif a.isupper()==True:\n",
    "    print(\"The character is an uppercase letter\")\n",
    "elif a.isdigit()==True:\n",
    "    print(\"The character is a digit\")\n",
    "else:\n",
    "    print(\"The character is a special character\")"
   ]
  },
  {
   "cell_type": "code",
   "execution_count": null,
   "metadata": {},
   "outputs": [],
   "source": [
    "char = input(\"Enter a character: \")\n",
    "\n",
    "if len(char) != 1:\n",
    "    print(\"Please enter a single character.\")\n",
    "else:\n",
    "    ascii_value = ord(char)  # Get ASCII value of the character\n",
    "    \n",
    "    if 65 <= ascii_value <= 90:\n",
    "        print(\"The character is an uppercase letter.\")\n",
    "    elif 97 <= ascii_value <= 122:\n",
    "        print(\"The character is a lowercase letter.\")\n",
    "    elif 48 <= ascii_value <= 57:\n",
    "        print(\"The character is a digit.\")\n",
    "    else:\n",
    "        print(\"The character is a special character.\")\n"
   ]
  },
  {
   "cell_type": "markdown",
   "metadata": {},
   "source": [
    "WAP to check Weekend"
   ]
  },
  {
   "cell_type": "code",
   "execution_count": null,
   "metadata": {},
   "outputs": [],
   "source": [
    "a=input(\"Enter day\")\n",
    "a=a.upper()\n",
    "if a==\"SATURDAY\" or a==\"SUNDAY\":\n",
    "    print(\"Weekend\")\n",
    "else:\n",
    "    print(\"Weekday\")\n"
   ]
  },
  {
   "cell_type": "markdown",
   "metadata": {},
   "source": [
    "String Slicing"
   ]
  },
  {
   "cell_type": "code",
   "execution_count": null,
   "metadata": {},
   "outputs": [],
   "source": []
  },
  {
   "cell_type": "code",
   "execution_count": null,
   "metadata": {},
   "outputs": [],
   "source": [
    "name=\"amalnair\"\n",
    "print(name[0])\n",
    "print(name[1])\n",
    "print(name[-1])\n",
    "print(name[5])\n",
    "print(name[0:5])\n",
    "print(name[1:])\n",
    "print(name[:5])\n",
    "print(name[:])\n",
    "print(name[1:8:2])\n",
    "print(name[::-1])\n"
   ]
  },
  {
   "cell_type": "code",
   "execution_count": null,
   "metadata": {},
   "outputs": [],
   "source": [
    "name =\"amalnair\"\n",
    "for i in name:\n",
    "    print(i)\n",
    "print(\"----------------------------------------\")\n",
    "for i in name[::-1]:\n",
    "    print(i)"
   ]
  },
  {
   "cell_type": "markdown",
   "metadata": {},
   "source": [
    "WAP to show vowels and consonents"
   ]
  },
  {
   "cell_type": "code",
   "execution_count": null,
   "metadata": {},
   "outputs": [],
   "source": [
    "name = \"amalnair\"\n",
    "v, c = 0, 0\n",
    "for i in name:\n",
    "    if i in \"aeiou\":\n",
    "        v += 1\n",
    "    else:\n",
    "        c += 1\n",
    "\n",
    "print(\"Vowels:\", v)\n",
    "print(\"Consonants:\", c)\n"
   ]
  },
  {
   "cell_type": "code",
   "execution_count": null,
   "metadata": {},
   "outputs": [],
   "source": [
    "s=\"amal\",\"nair\",\"1\"\n",
    "m='|'.join(s)\n",
    "print(m)"
   ]
  },
  {
   "cell_type": "code",
   "execution_count": null,
   "metadata": {},
   "outputs": [],
   "source": [
    "s=\"Python is the greatest in the world\"\n",
    "print(s.lower())\n",
    "print(s.upper())\n",
    "print(s.swapcase())\n",
    "print(s.title())\n",
    "print(s.capitalize())"
   ]
  },
  {
   "cell_type": "code",
   "execution_count": null,
   "metadata": {},
   "outputs": [],
   "source": [
    "name=\"amalnair\"\n",
    "i=0\n",
    "for x in name:\n",
    "    if x == 'n':\n",
    "        print(\"the char present in index is \",i,\" value \",x)\n",
    "        break\n",
    "    i=i+1"
   ]
  },
  {
   "cell_type": "code",
   "execution_count": null,
   "metadata": {},
   "outputs": [],
   "source": [
    "name=\"amalnair\"\n",
    "print(name.reverse())"
   ]
  }
 ],
 "metadata": {
  "kernelspec": {
   "display_name": "Python 3",
   "language": "python",
   "name": "python3"
  },
  "language_info": {
   "codemirror_mode": {
    "name": "ipython",
    "version": 3
   },
   "file_extension": ".py",
   "mimetype": "text/x-python",
   "name": "python",
   "nbconvert_exporter": "python",
   "pygments_lexer": "ipython3",
   "version": "3.12.3"
  }
 },
 "nbformat": 4,
 "nbformat_minor": 2
}
